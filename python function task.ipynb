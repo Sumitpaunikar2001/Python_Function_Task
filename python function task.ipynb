{
 "cells": [
  {
   "cell_type": "markdown",
   "id": "76c91e36-cac1-4f04-9c2b-41285c68f4ac",
   "metadata": {},
   "source": [
    "# Arthimetic Operation Function\n"
   ]
  },
  {
   "cell_type": "code",
   "execution_count": 2,
   "id": "c2da2b3e-9bc5-4af7-bd27-66a123c7fce6",
   "metadata": {},
   "outputs": [
    {
     "name": "stdout",
     "output_type": "stream",
     "text": [
      "val1 + val2 =120+110=230\n"
     ]
    }
   ],
   "source": [
    "def add1(val1,val2):\n",
    "    result = val1 + val2\n",
    "    print(f'val1 + val2 ={val1}+{val2}={result}')\n",
    "\n",
    "add1(120,110)"
   ]
  },
  {
   "cell_type": "code",
   "execution_count": 4,
   "id": "b54f86ec-4a2e-45e9-895b-2e77594e7654",
   "metadata": {},
   "outputs": [
    {
     "name": "stdout",
     "output_type": "stream",
     "text": [
      "v1 * v2=20*25=500\n"
     ]
    }
   ],
   "source": [
    "def multi(v1,v2):\n",
    "    result = v1 * v2\n",
    "    print(f'v1 * v2={v1}*{v2}={result}')\n",
    "\n",
    "multi(20,25)"
   ]
  },
  {
   "cell_type": "markdown",
   "id": "74c75174-bb42-4c43-aa87-b9c7d746ce7a",
   "metadata": {},
   "source": [
    "# Comparision Function\n"
   ]
  },
  {
   "cell_type": "code",
   "execution_count": 3,
   "id": "775acf2b-98f9-44d2-8864-dfcde1bedcbf",
   "metadata": {},
   "outputs": [
    {
     "name": "stdout",
     "output_type": "stream",
     "text": [
      "num1 > num2 =50>80=False\n",
      "num1 > num2 =60>40=True\n"
     ]
    }
   ],
   "source": [
    "def compare(num1 ,num2):\n",
    "    result = num1 > num2\n",
    "    print(f'num1 > num2 ={num1}>{num2}={result}')\n",
    "compare(50,80)\n",
    "compare(60,40)"
   ]
  },
  {
   "cell_type": "markdown",
   "id": "bc93b00a-1af5-414d-bf62-c23cce3afc9b",
   "metadata": {},
   "source": [
    "# Return Function\n"
   ]
  },
  {
   "cell_type": "code",
   "execution_count": 5,
   "id": "dbd459fa-6c63-43ed-9647-cf67e7e5abd8",
   "metadata": {},
   "outputs": [
    {
     "name": "stdout",
     "output_type": "stream",
     "text": [
      "p1 / p2=80/40=2.0\n",
      "output=2.0\n"
     ]
    }
   ],
   "source": [
    "def check(p1,p2):\n",
    "    result = p1/p2\n",
    "    print(f'p1 / p2={p1}/{p2}={result}')\n",
    "    return result\n",
    "\n",
    "output=check(80,40)\n",
    "print(f'output={output}')"
   ]
  },
  {
   "cell_type": "code",
   "execution_count": 7,
   "id": "ff0fdba6-37a5-41ed-9ee8-89ff92962a94",
   "metadata": {},
   "outputs": [
    {
     "name": "stdout",
     "output_type": "stream",
     "text": [
      "va1 < va2 =24<48=False\n",
      "output=False\n"
     ]
    }
   ],
   "source": [
    "def com(va1,va2):\n",
    "    result = va1 > va2\n",
    "    print(f'va1 < va2 ={va1}<{va2}={result}')\n",
    "    return result\n",
    "output=com(24,48)\n",
    "print(f'output={output}')"
   ]
  },
  {
   "cell_type": "code",
   "execution_count": null,
   "id": "e0db4075-9113-453d-9ac0-bddc87f1c8e1",
   "metadata": {},
   "outputs": [],
   "source": []
  }
 ],
 "metadata": {
  "kernelspec": {
   "display_name": "Python 3 (ipykernel)",
   "language": "python",
   "name": "python3"
  },
  "language_info": {
   "codemirror_mode": {
    "name": "ipython",
    "version": 3
   },
   "file_extension": ".py",
   "mimetype": "text/x-python",
   "name": "python",
   "nbconvert_exporter": "python",
   "pygments_lexer": "ipython3",
   "version": "3.11.7"
  }
 },
 "nbformat": 4,
 "nbformat_minor": 5
}
